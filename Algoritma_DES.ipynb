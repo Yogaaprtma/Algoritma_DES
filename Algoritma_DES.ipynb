{
  "nbformat": 4,
  "nbformat_minor": 0,
  "metadata": {
    "colab": {
      "provenance": []
    },
    "kernelspec": {
      "name": "python3",
      "display_name": "Python 3"
    },
    "language_info": {
      "name": "python"
    }
  },
  "cells": [
    {
      "cell_type": "markdown",
      "source": [
        "\n",
        "\n",
        "---\n",
        "\n",
        "\n",
        "Nama  : Yoga Adi Pratama\n",
        "\n",
        "NIM   : A11.2021.13472\n",
        "\n",
        "Kelas : A11.45UG\n",
        "\n",
        "TUGAS UTS MEMBUAT ALGORITMA DES\n",
        "\n",
        "---\n",
        "\n"
      ],
      "metadata": {
        "id": "5MbNECATPMvr"
      }
    },
    {
      "cell_type": "markdown",
      "source": [
        "INPUTAN PLAINTEXT"
      ],
      "metadata": {
        "id": "QlvtfIEj4mp6"
      }
    },
    {
      "cell_type": "code",
      "execution_count": 26,
      "metadata": {
        "colab": {
          "base_uri": "https://localhost:8080/"
        },
        "id": "l_xdAcPWFiZO",
        "outputId": "11e8c004-bdcd-4e46-939a-5cfc9f3d0c58"
      },
      "outputs": [
        {
          "output_type": "stream",
          "name": "stdout",
          "text": [
            "Masukkan Plaintext: COMPUTER\n",
            "Plaintext = COMPUTER\n"
          ]
        }
      ],
      "source": [
        "plaintext = input(\"Masukkan Plaintext: \")\n",
        "print(\"Plaintext =\", plaintext)"
      ]
    },
    {
      "cell_type": "markdown",
      "source": [
        "INPUTAN KUNCI"
      ],
      "metadata": {
        "id": "opmgAoZJ4r0S"
      }
    },
    {
      "cell_type": "code",
      "source": [
        "kunci = input(\"Masukkan Kunci: \")\n",
        "print(\"Kunci =\", kunci)"
      ],
      "metadata": {
        "colab": {
          "base_uri": "https://localhost:8080/"
        },
        "id": "Z3qVoC7BHpH1",
        "outputId": "065881da-0416-4450-d3d4-7dbfa34e88cc"
      },
      "execution_count": 27,
      "outputs": [
        {
          "output_type": "stream",
          "name": "stdout",
          "text": [
            "Masukkan Kunci: 13 34 57 79 9B BC DF F1\n",
            "Kunci = 13 34 57 79 9B BC DF F1\n"
          ]
        }
      ]
    },
    {
      "cell_type": "markdown",
      "source": [
        "LANGKAH 1: PERMUTASI AWAL\n",
        "\n",
        "UNTUK MENGUBAH PLAINTEXT KE BINER"
      ],
      "metadata": {
        "id": "76RVBUDz47QK"
      }
    },
    {
      "cell_type": "code",
      "source": [
        "# Untuk Mengubah Plaintext Kedalam Bentuk Biner\n",
        "\n",
        "# Tabel Urutan bit plaintext awal\n",
        "plaintext_awal = [1, 2, 3, 4, 5, 6, 7, 8,\n",
        "                  9, 10, 11, 12, 13, 14, 15, 16,\n",
        "                  17, 18, 19, 20, 21, 22, 23, 24,\n",
        "                  25, 26, 27, 28, 29, 30, 31, 32,\n",
        "                  33, 34, 35, 36, 37, 38, 39, 40,\n",
        "                  41, 42, 43, 44, 45, 46, 47, 48,\n",
        "                  49, 50, 51, 52, 53, 54, 55, 56,\n",
        "                  57, 58, 59, 60, 61, 62, 63, 64]\n",
        "\n",
        "plaintext_awal = plaintext\n",
        "\n",
        "if len(plaintext_awal) != 8:\n",
        "    print(\"Plaintext harus memiliki panjang 8 karakter.\")\n",
        "else:\n",
        "    binary_text = ''.join(format(ord(char), '08b') for char in plaintext_awal)\n",
        "    binary_text_with_spaces = ' '.join(binary_text[i:i+8] for i in range(0, len(binary_text), 8))\n",
        "    print(\"Plaintext Dalam Biner:\")\n",
        "    print(\"P =\", binary_text_with_spaces)"
      ],
      "metadata": {
        "colab": {
          "base_uri": "https://localhost:8080/"
        },
        "id": "hAlrfjmmOMoh",
        "outputId": "286ce442-8621-4d6c-c3df-204d5831d369"
      },
      "execution_count": 28,
      "outputs": [
        {
          "output_type": "stream",
          "name": "stdout",
          "text": [
            "Plaintext Dalam Biner:\n",
            "P = 01000011 01001111 01001101 01010000 01010101 01010100 01000101 01010010\n"
          ]
        }
      ]
    },
    {
      "cell_type": "markdown",
      "source": [
        "UNTUK MELAKUKAN PERMUTASI PADA BIT PLAINTEXT YANG TELAH DI UBAH KE BINER"
      ],
      "metadata": {
        "id": "Uju03BEY63a_"
      }
    },
    {
      "cell_type": "code",
      "source": [
        "# Tabel Urutan bit permutasi awal\n",
        "initial_permutation_table = [58, 50, 42, 34, 26, 18, 10, 2,\n",
        "                             60, 52, 44, 36, 28, 20, 12, 4,\n",
        "                             62, 54, 46, 38, 30, 22, 14, 6,\n",
        "                             64, 56, 48, 40, 32, 24, 16, 8,\n",
        "                             57, 49, 41, 33, 25, 17, 9, 1,\n",
        "                             59, 51, 43, 35, 27, 19, 11, 3,\n",
        "                             61, 53, 45, 37, 29, 21, 13, 5,\n",
        "                             63, 55, 47, 39, 31, 23, 15, 7]\n",
        "\n",
        "plaintext = binary_text\n",
        "\n",
        "if len(plaintext_awal) != 8:\n",
        "    print(\"Plaintext harus memiliki panjang 8 karakter.\")\n",
        "else:\n",
        "    binary_text = ''.join(format(ord(char), '08b') for char in plaintext)\n",
        "    initial_permuted_text = ''.join(plaintext[i - 1] for i in initial_permutation_table)  #variabel yang digunakan untuk menyimpan hasil permutasi awal\n",
        "\n",
        "    # Memecah hasil permutasi awal menjadi blok-blok 8 bit dengan spasi\n",
        "    initial_permuted_text_with_spaces = ' '.join([initial_permuted_text[i:i+8] for i in range(0, len(initial_permuted_text), 8)])\n",
        "\n",
        "    print(\"Hasil Permutasi Awal:\")\n",
        "    print(\"IP =\", initial_permuted_text_with_spaces)"
      ],
      "metadata": {
        "colab": {
          "base_uri": "https://localhost:8080/"
        },
        "id": "5YdUfcKOMAWV",
        "outputId": "68413e71-c7c3-4510-c549-0a11a66a96b9"
      },
      "execution_count": 29,
      "outputs": [
        {
          "output_type": "stream",
          "name": "stdout",
          "text": [
            "Hasil Permutasi Awal:\n",
            "IP = 11111111 10111000 01110110 01010111 00000000 00000000 00000110 10000011\n"
          ]
        }
      ]
    },
    {
      "cell_type": "markdown",
      "source": [
        "LANGKAH 2: MEMECAH HASIL IP MENJADI 2 BAGIAN YAITU KIRI DAN KANAN (MASING-MASING SEBANYAK 32 BIT)"
      ],
      "metadata": {
        "id": "C1_IXLXy8T1T"
      }
    },
    {
      "cell_type": "code",
      "source": [
        "# Memecah hasil IP menjadi bagian kiri (L0) dan bagian kanan (R0)\n",
        "L0 = [initial_permuted_text[i:i + 8] for i in range(0, 32, 8)]\n",
        "print(\"L0 :\", L0)\n",
        "\n",
        "R0 = [initial_permuted_text[i:i + 8] for i in range(32, 64, 8)]\n",
        "print(\"R0 :\", R0)"
      ],
      "metadata": {
        "colab": {
          "base_uri": "https://localhost:8080/"
        },
        "id": "IooE9rd-Z4ZO",
        "outputId": "93c0ec12-7968-4cc6-c282-a2f1a925e12c"
      },
      "execution_count": 30,
      "outputs": [
        {
          "output_type": "stream",
          "name": "stdout",
          "text": [
            "L0 : ['11111111', '10111000', '01110110', '01010111']\n",
            "R0 : ['00000000', '00000000', '00000110', '10000011']\n"
          ]
        }
      ]
    },
    {
      "cell_type": "markdown",
      "source": [
        "LANGKAH 3: PEMBANGKITAN KUNCI\n",
        "\n",
        "UNTUK MENGUBAH KUNCI MENJADI BENTUK BINER\n"
      ],
      "metadata": {
        "id": "dhDO2Ole-QKR"
      }
    },
    {
      "cell_type": "code",
      "source": [
        "# Ouput kunci awal\n",
        "print(\"Kunci =\", kunci)\n",
        "\n",
        "# Tabel Masukan Awal\n",
        "# Digunakan untuk mendefinisikan urutan bit dalam kunci\n",
        "matriks_masukan = [1, 2, 3, 4, 5, 6, 7, 8,\n",
        "                  9, 10, 11, 12, 13, 14, 15, 16,\n",
        "                  17, 18, 19, 20, 21, 22, 23, 24,\n",
        "                  25, 26, 27, 28, 29, 30, 31, 32,\n",
        "                  33, 34, 35, 36, 37, 38, 39, 40,\n",
        "                  41, 42, 42, 44, 45, 46, 47, 48,\n",
        "                  49, 50, 51, 52, 53, 54, 55, 56,\n",
        "                  57, 58, 59, 60, 61, 62, 63, 64]\n",
        "\n",
        "# Kunci awal dalam format heksadesimal\n",
        "key_hex = kunci\n",
        "\n",
        "# Hilangkan spasi dari kunci jika ada\n",
        "key_hex = key_hex.replace(\" \", \"\")\n",
        "\n",
        "# Ubah heksadesimal menjadi biner\n",
        "try:\n",
        "    key_biner = bin(int(key_hex, 16))[2:]\n",
        "except ValueError:\n",
        "    print(\"Kunci heksadesimal tidak valid.\")\n",
        "    key_biner = \"\"\n",
        "\n",
        "# Pad kunci biner dengan nol hingga panjang 64 bit\n",
        "while len(key_biner) % 8 != 0:\n",
        "    key_biner = '0' + key_biner\n",
        "\n",
        "# Sisipkan spasi setiap 8 bit\n",
        "key_biner = ' '.join([key_biner[i:i + 8] for i in range(0, len(key_biner), 8)])\n",
        "\n",
        "print(\"K (Biner) =\", key_biner)"
      ],
      "metadata": {
        "colab": {
          "base_uri": "https://localhost:8080/"
        },
        "id": "DRcHZYs82-VA",
        "outputId": "f64bc6ab-1aaa-417a-ea46-2491c9e1dacb"
      },
      "execution_count": 31,
      "outputs": [
        {
          "output_type": "stream",
          "name": "stdout",
          "text": [
            "Kunci = 13 34 57 79 9B BC DF F1\n",
            "K (Biner) = 00010011 00110100 01010111 01111001 10011011 10111100 11011111 11110001\n"
          ]
        }
      ]
    },
    {
      "cell_type": "markdown",
      "source": [
        "LANGKAH 4: PERMUTASI PC-1\n",
        "\n",
        "MELAKUKAN PERMUTASI PADA KUNCI YANG TELAH JADI BINER MENGGUNAKAN TABLE PC-1"
      ],
      "metadata": {
        "id": "PHDDaHHFCKjV"
      }
    },
    {
      "cell_type": "code",
      "source": [
        "# Tabel permutasi awal kunci (PC1)\n",
        "pc1_table = [57, 49, 41, 33, 25, 17, 9, 1,\n",
        "             58, 50, 42, 34, 26, 18, 10, 2,\n",
        "             59, 51, 43, 35, 27, 19, 11, 3,\n",
        "             60, 52, 44, 36, 63, 55, 47, 39,\n",
        "             31, 23, 15, 7, 62, 54, 46, 38,\n",
        "             30, 22, 14, 6, 61, 53, 45, 37,\n",
        "             29, 21, 13, 5, 28, 20, 12, 4]\n",
        "\n",
        "# Konversi kunci ke format biner 64-bit\n",
        "key_bits = ''.join(format(int(key_hex, 16), '064b'))\n",
        "\n",
        "# Lakukan permutasi awal kunci (PC1)\n",
        "key_permuted = ''.join(key_bits[i - 1] for i in pc1_table)\n",
        "\n",
        "# Tampilkan kunci setelah permutasi awal dengan spasi setiap 7 bit\n",
        "key_permuted_with_spaces = ' '.join(key_permuted[i:i + 7] for i in range(0, 56, 7))\n",
        "print(\"Kunci setelah permutasi awal (PC1):\")\n",
        "print(\"K+ =\", key_permuted_with_spaces)"
      ],
      "metadata": {
        "colab": {
          "base_uri": "https://localhost:8080/"
        },
        "id": "nboOXVmo04Gy",
        "outputId": "65e83ba2-2146-4a1d-dd07-7690a2750e53"
      },
      "execution_count": 32,
      "outputs": [
        {
          "output_type": "stream",
          "name": "stdout",
          "text": [
            "Kunci setelah permutasi awal (PC1):\n",
            "K+ = 1111000 0110011 0010101 0101111 0101010 1011001 1001111 0001111\n"
          ]
        }
      ]
    },
    {
      "cell_type": "markdown",
      "source": [
        "LANGKAH 5: PECAH MENJADI C0 DAN D0\n",
        "\n",
        "PECAH NILAI DARI K+ MENJADI 2 BAGIAN YAITU C0 DAN D0 (MASING-MASING 28 BIT)"
      ],
      "metadata": {
        "id": "FV4uQQivDI96"
      }
    },
    {
      "cell_type": "code",
      "source": [
        "# Bagi kunci menjadi dua bagian (C0 dan D0)\n",
        "C0 = key_permuted[:28]\n",
        "D0 = key_permuted[28:]\n",
        "\n",
        "# Tampilkan C0 dan D0 dengan spasi setiap 7 bit\n",
        "C0_with_spaces = ' '.join(C0[i:i + 7] for i in range(0, 28, 7))\n",
        "D0_with_spaces = ' '.join(D0[i:i + 7] for i in range(0, 28, 7))\n",
        "\n",
        "print(\"C0 =\", C0_with_spaces)\n",
        "print(\"D0 =\", D0_with_spaces)"
      ],
      "metadata": {
        "colab": {
          "base_uri": "https://localhost:8080/"
        },
        "id": "xozjNPWfEkJy",
        "outputId": "f32f9d7d-b018-47e9-fb83-61f3d5618e1c"
      },
      "execution_count": 33,
      "outputs": [
        {
          "output_type": "stream",
          "name": "stdout",
          "text": [
            "C0 = 1111000 0110011 0010101 0101111\n",
            "D0 = 0101010 1011001 1001111 0001111\n"
          ]
        }
      ]
    },
    {
      "cell_type": "markdown",
      "source": [
        "LANGKAH 6 - 7: MELAKUKAN WRAPPING & MENAMPILKAN HASIL C0 D0 SAMPAI C16 D16\n",
        "\n",
        "SETELAH MENDAPATKAN C0 DAN D0"
      ],
      "metadata": {
        "id": "ozzzJmEoG6f-"
      }
    },
    {
      "cell_type": "code",
      "source": [
        "# Tabel pergeseran kunci\n",
        "shift_table = [1, 1, 2, 2, 2, 2, 2, 2,\n",
        "               1, 2, 2, 2, 2, 2, 2, 1]\n",
        "\n",
        "# Inisialisasi daftar Cn dan Dn\n",
        "Cn_list = [C0]\n",
        "Dn_list = [D0]\n",
        "\n",
        "# Hasil pergeseran kunci sepanjang 1 bit atau 2 bit sesuai tabel\n",
        "for i in range(16):\n",
        "    shift = shift_table[i]\n",
        "    # Cn_minus_1 dan Dn_minus_1 akan mengambil kunci kiri dan kunci kanan dari putaran sebelumnya\n",
        "    Cn_minus_1 = Cn_list[i]\n",
        "    Dn_minus_1 = Dn_list[i]\n",
        "\n",
        "    # Geser Cn-1 dan Dn-1 sebanyak langkah tertentu\n",
        "    # Kemudian, kode akan melakukan pergeseran bit pada kunci kiri dan kunci kanan ini sesuai dengan jumlah pergeseran yang ditentukan oleh shift\n",
        "    Cn = Cn_minus_1[shift:] + Cn_minus_1[:shift]\n",
        "    Dn = Dn_minus_1[shift:] + Dn_minus_1[:shift]\n",
        "\n",
        "    # Tambahkan Cn dan Dn ke daftar\n",
        "    Cn_list.append(Cn)\n",
        "    Dn_list.append(Dn)\n",
        "\n",
        "# Tampilkan semua Cn dan Dn dengan spasi 7 bit\n",
        "for i in range(17):\n",
        "    print(f\"C{i}: {' '.join(Cn_list[i][-28:][j:j+7] for j in range(0, 28, 7))}\")\n",
        "    print(f\"D{i}: {' '.join(Dn_list[i][-28:][j:j+7] for j in range(0, 28, 7))}\")"
      ],
      "metadata": {
        "colab": {
          "base_uri": "https://localhost:8080/"
        },
        "id": "xda1fnCwGw2P",
        "outputId": "d518082e-347d-4ad5-d761-233a97763b1b"
      },
      "execution_count": 34,
      "outputs": [
        {
          "output_type": "stream",
          "name": "stdout",
          "text": [
            "C0: 1111000 0110011 0010101 0101111\n",
            "D0: 0101010 1011001 1001111 0001111\n",
            "C1: 1110000 1100110 0101010 1011111\n",
            "D1: 1010101 0110011 0011110 0011110\n",
            "C2: 1100001 1001100 1010101 0111111\n",
            "D2: 0101010 1100110 0111100 0111101\n",
            "C3: 0000110 0110010 1010101 1111111\n",
            "D3: 0101011 0011001 1110001 1110101\n",
            "C4: 0011001 1001010 1010111 1111100\n",
            "D4: 0101100 1100111 1000111 1010101\n",
            "C5: 1100110 0101010 1011111 1110000\n",
            "D5: 0110011 0011110 0011110 1010101\n",
            "C6: 0011001 0101010 1111111 1000011\n",
            "D6: 1001100 1111000 1111010 1010101\n",
            "C7: 1100101 0101011 1111110 0001100\n",
            "D7: 0110011 1100011 1101010 1010110\n",
            "C8: 0010101 0101111 1111000 0110011\n",
            "D8: 1001111 0001111 0101010 1011001\n",
            "C9: 0101010 1011111 1110000 1100110\n",
            "D9: 0011110 0011110 1010101 0110011\n",
            "C10: 0101010 1111111 1000011 0011001\n",
            "D10: 1111000 1111010 1010101 1001100\n",
            "C11: 0101011 1111110 0001100 1100101\n",
            "D11: 1100011 1101010 1010110 0110011\n",
            "C12: 0101111 1111000 0110011 0010101\n",
            "D12: 0001111 0101010 1011001 1001111\n",
            "C13: 0111111 1100001 1001100 1010101\n",
            "D13: 0111101 0101010 1100110 0111100\n",
            "C14: 1111111 0000110 0110010 1010101\n",
            "D14: 1110101 0101011 0011001 1110001\n",
            "C15: 1111100 0011001 1001010 1010111\n",
            "D15: 1010101 0101100 1100111 1000111\n",
            "C16: 1111000 0110011 0010101 0101111\n",
            "D16: 0101010 1011001 1001111 0001111\n"
          ]
        }
      ]
    },
    {
      "cell_type": "markdown",
      "source": [
        "LANGKAH 8: MENGGABUNGKAN HASIL Cn DENGAN Dn"
      ],
      "metadata": {
        "id": "x9O1jO3hTlh0"
      }
    },
    {
      "cell_type": "code",
      "source": [
        "# Tabel permutasi kunci kedua (PC-2)\n",
        "pc2_table = [14, 17, 11, 24, 1, 5,\n",
        "             3, 28, 15, 6, 21, 10,\n",
        "             23, 19, 12, 4, 26, 8,\n",
        "             16, 7, 27, 20, 13, 2,\n",
        "             41, 52, 31, 37, 47, 55,\n",
        "             30, 40, 51, 45, 33, 48,\n",
        "             44, 49, 39, 56, 34, 53,\n",
        "             46, 42, 50, 36, 29, 32]\n",
        "\n",
        "cd_gab = [] # Inisialisasi sebuah list kosong untuk menyimpan kunci gabungan (bentuk list)\n",
        "cd = '' # Inisialisasi variabel cd sebagai string kosong (menyimpan hasil gabungan)\n",
        "for i in range(17):\n",
        "  cd = Cn_list[i] + Dn_list[i]\n",
        "  cd_gab.append(cd) # Tambahkan hasil gabungan ke dalam list cd_gab\n",
        "\n",
        "# Tampilkan semua Cn dan Dn dengan spasi setiap 8 bit\n",
        "for i in range(17):\n",
        "    cd_with_spaces = ' '.join(cd_gab[i][j:j+8] for j in range(0, len(cd_gab[i]), 8))\n",
        "    print(f\"C{i}D{i}:\", cd_with_spaces)"
      ],
      "metadata": {
        "colab": {
          "base_uri": "https://localhost:8080/"
        },
        "id": "bHyEzffn19cY",
        "outputId": "f84925ac-7625-4f73-8e29-0990275c2455"
      },
      "execution_count": 35,
      "outputs": [
        {
          "output_type": "stream",
          "name": "stdout",
          "text": [
            "C0D0: 11110000 11001100 10101010 11110101 01010110 01100111 10001111\n",
            "C1D1: 11100001 10011001 01010101 11111010 10101100 11001111 00011110\n",
            "C2D2: 11000011 00110010 10101011 11110101 01011001 10011110 00111101\n",
            "C3D3: 00001100 11001010 10101111 11110101 01100110 01111000 11110101\n",
            "C4D4: 00110011 00101010 10111111 11000101 10011001 11100011 11010101\n",
            "C5D5: 11001100 10101010 11111111 00000110 01100111 10001111 01010101\n",
            "C6D6: 00110010 10101011 11111100 00111001 10011110 00111101 01010101\n",
            "C7D7: 11001010 10101111 11110000 11000110 01111000 11110101 01010110\n",
            "C8D8: 00101010 10111111 11000011 00111001 11100011 11010101 01011001\n",
            "C9D9: 01010101 01111111 10000110 01100011 11000111 10101010 10110011\n",
            "C10D10: 01010101 11111110 00011001 10011111 00011110 10101010 11001100\n",
            "C11D11: 01010111 11111000 01100110 01011100 01111010 10101011 00110011\n",
            "C12D12: 01011111 11100001 10011001 01010001 11101010 10101100 11001111\n",
            "C13D13: 01111111 10000110 01100101 01010111 10101010 10110011 00111100\n",
            "C14D14: 11111110 00011001 10010101 01011110 10101010 11001100 11110001\n",
            "C15D15: 11111000 01100110 01010101 01111010 10101011 00110011 11000111\n",
            "C16D16: 11110000 11001100 10101010 11110101 01010110 01100111 10001111\n"
          ]
        }
      ]
    },
    {
      "cell_type": "markdown",
      "source": [
        "LANGKAH 9: MENAMPILKAN HASIL GABUNGAN (CnDn) SETELAH PERMUTASI SAMPAI SEBANYAK 16 KALI"
      ],
      "metadata": {
        "id": "IudLLnaeT3wA"
      }
    },
    {
      "cell_type": "code",
      "source": [
        "# Inisialisasi list untuk hasil permutasi PC-2\n",
        "key_pc2_list = []\n",
        "\n",
        "# Lakukan perulangan sebanyak 16 kali\n",
        "for i in range(1,17):\n",
        "    key_hex = Cn_list[i] + Dn_list[i]\n",
        "    key_hex = key_hex.replace(\" \", \"\")\n",
        "    keyy = ''\n",
        "    for i in range(48):\n",
        "        keyy += key_hex[pc2_table[i] - 1]  #digunakan untuk mengambil bit-bit dari key_hex yang telah dihitung pada setiap putaran dengan memeriksa indeks yang diberikan oleh tabel permutasi PC-2\n",
        "    # Tambahkan hasil permutasi ke list\n",
        "    key_pc2_list.append(keyy)\n",
        "\n",
        "# Tampilkan hasil key_pc2 sebagai list dengan spasi setiap 6 bit\n",
        "print(\"Key Hasil PC-2:\")\n",
        "for i, key in enumerate(key_pc2_list, 1):\n",
        "    key_with_spaces = ' '.join(key[i:i+6] for i in range(0, len(key), 6))\n",
        "    print(f\"K{i} =\", key_with_spaces)"
      ],
      "metadata": {
        "colab": {
          "base_uri": "https://localhost:8080/"
        },
        "id": "iXB_UvFKKN1S",
        "outputId": "e805aaca-66c0-489e-e0fe-631c19399aac"
      },
      "execution_count": 36,
      "outputs": [
        {
          "output_type": "stream",
          "name": "stdout",
          "text": [
            "Key Hasil PC-2:\n",
            "K1 = 000110 110000 001011 101111 111111 000111 000001 110010\n",
            "K2 = 011110 011010 111011 011001 110110 111100 100111 100101\n",
            "K3 = 010101 011111 110010 001010 010000 101100 111110 011001\n",
            "K4 = 011100 101010 110111 010110 110110 110011 010100 011101\n",
            "K5 = 011111 001110 110000 000111 111010 110101 001110 101000\n",
            "K6 = 011000 111010 010100 111110 010100 000111 101100 101111\n",
            "K7 = 111011 001000 010010 110111 111101 100001 100010 111100\n",
            "K8 = 111101 111000 101000 111010 110000 010011 101111 111011\n",
            "K9 = 111000 001101 101111 101011 111011 011110 011110 000001\n",
            "K10 = 101100 011111 001101 000111 101110 100100 011001 001111\n",
            "K11 = 001000 010101 111111 010011 110111 101101 001110 000110\n",
            "K12 = 011101 010111 000111 110101 100101 000110 011111 101001\n",
            "K13 = 100101 111100 010111 010001 111110 101011 101001 000001\n",
            "K14 = 010111 110100 001110 110111 111100 101110 011100 111010\n",
            "K15 = 101111 111001 000110 001101 001111 010011 111100 001010\n",
            "K16 = 110010 110011 110110 001011 000011 100001 011111 110101\n"
          ]
        }
      ]
    },
    {
      "cell_type": "markdown",
      "source": [
        "AWAL PROSES ENCHIPERING"
      ],
      "metadata": {
        "id": "7Ya4tLnmXuau"
      }
    },
    {
      "cell_type": "markdown",
      "source": [
        "EXPANSI R0"
      ],
      "metadata": {
        "id": "ZAaY4eczeAHY"
      }
    },
    {
      "cell_type": "code",
      "source": [
        "# Tabel ekspansi (Expansion)\n",
        "expansion_table = [32, 1, 2, 3, 4, 5,\n",
        "                   4, 5, 6, 7, 8, 9,\n",
        "                   8, 9, 10, 11, 12, 13,\n",
        "                   12, 13, 14, 15, 16, 17,\n",
        "                   16, 17, 18, 19, 20, 21,\n",
        "                   20, 21, 22, 23, 24, 25,\n",
        "                   24, 25, 26, 27, 28, 29,\n",
        "                   28, 29, 30, 31, 32, 1]\n",
        "\n",
        "# Inisialisasi hasil ekspansi (48 bit)\n",
        "expanded_R0 = \"\"  #menyimpan hasil ekspansi R0\n",
        "R0 = ''.join(R0)  #mengonversi list R0 menjadi string\n",
        "# Lakukan ekspansi dengan menggunakan tabel ekspansi\n",
        "for i in range(48):\n",
        "    expanded_R0 += R0[expansion_table[i] - 1] #diisi dengan bit dari R0 sesuai dengan indeks yang diberikan oleh table expansion\n",
        "\n",
        "# Tambahkan spasi setiap 6 bit pada hasil ekspansi R0\n",
        "expanded_R0_with_spaces = ' '.join(expanded_R0[i:i + 6] for i in range(0, len(expanded_R0), 6))\n",
        "\n",
        "# Hasil ekspansi R0 dengan spasi\n",
        "print(\"E(R0):\", expanded_R0_with_spaces)"
      ],
      "metadata": {
        "colab": {
          "base_uri": "https://localhost:8080/"
        },
        "id": "lQrW_wgMbP4M",
        "outputId": "9aa20942-7569-4d19-bdaa-c9e7d101bb60"
      },
      "execution_count": 37,
      "outputs": [
        {
          "output_type": "stream",
          "name": "stdout",
          "text": [
            "E(R0): 100000 000000 000000 000000 000000 001101 010000 000110\n"
          ]
        }
      ]
    },
    {
      "cell_type": "markdown",
      "source": [
        "XOR ANTARA E(R0) DENGAN K1 UNTUK MENDAPAT HASIL A1"
      ],
      "metadata": {
        "id": "ZLBtY-4YeGqx"
      }
    },
    {
      "cell_type": "code",
      "source": [
        "# Inisialisasi hasil XOR (A1) sebagai string kosong\n",
        "A1 = \"\"\n",
        "\n",
        "# Lakukan XOR bit per bit antara hasil ekspansi R0 (expanded_R0) dan kunci K (key_pc2)\n",
        "for i in range(48):\n",
        "    bit_expanded_R0 = int(expanded_R0[i])\n",
        "    bit_key = int(key_pc2_list[0][i])\n",
        "    result_bit = bit_expanded_R0 ^ bit_key  # Operasi XOR\n",
        "    A1 += str(result_bit)  # Tambahkan hasil XOR ke A1\n",
        "\n",
        "# A1 adalah hasil XOR antara hasil ekspansi R0 dan kunci K\n",
        "# Tambahkan spasi setiap 6 bit\n",
        "A1_with_spaces = ' '.join(A1[i:i+6] for i in range(0, len(A1), 6))\n",
        "print(\"A1:\", A1_with_spaces)"
      ],
      "metadata": {
        "colab": {
          "base_uri": "https://localhost:8080/"
        },
        "id": "D0rNRQWilE1Q",
        "outputId": "b64c23af-f007-481c-ba75-be3ca0cd513f"
      },
      "execution_count": 38,
      "outputs": [
        {
          "output_type": "stream",
          "name": "stdout",
          "text": [
            "A1: 100110 110000 001011 101111 111111 001010 010001 110100\n"
          ]
        }
      ]
    },
    {
      "cell_type": "markdown",
      "source": [
        "SUBSTITUSI S-BOX"
      ],
      "metadata": {
        "id": "sQbWhsgmemFO"
      }
    },
    {
      "cell_type": "code",
      "source": [
        "s_box = [\n",
        "    # S-Box 1\n",
        "    [\n",
        "      [14, 4, 13, 1, 2, 15, 11, 8, 3, 10, 6, 12, 5, 9, 0, 7],\n",
        "      [0, 15, 7, 4, 14, 2, 13, 1, 10, 6, 12, 11, 9, 5, 3, 8],\n",
        "      [4, 1, 14, 8, 13, 6, 2, 11, 15, 12, 9, 7, 3, 10, 5, 0],\n",
        "      [15, 12, 8, 2, 4, 9, 1, 7, 5, 11, 3, 14, 10, 0, 6, 13]\n",
        "    ],\n",
        "\n",
        "    # S-Box 2\n",
        "    [\n",
        "      [15, 1, 8, 14, 6, 11, 3, 4, 9, 7, 2, 13, 12, 0, 5, 10],\n",
        "      [3, 13, 4, 7, 15, 2, 8, 14, 12, 0, 1, 10, 6, 9, 11, 5],\n",
        "      [0, 14, 7, 11, 10, 4, 13, 1, 5, 8, 12, 6, 9, 3, 2, 15],\n",
        "      [13, 8, 10, 1, 3, 15, 4, 2, 11, 6, 7, 12, 0, 5, 14, 9]\n",
        "    ],\n",
        "\n",
        "    # S-Box 3\n",
        "    [\n",
        "      [10, 0, 9, 14, 6, 3, 15, 5, 1, 13, 12, 7, 11, 4, 2, 8],\n",
        "      [13, 7, 0, 9, 3, 4, 6, 10, 2, 8, 5, 14, 12, 11, 15, 1],\n",
        "      [13, 6, 4, 9, 8, 15, 3, 0, 11, 1, 2, 12, 5, 10, 14, 7],\n",
        "      [1, 10, 13, 0, 6, 9, 8, 7, 4, 15, 14, 3, 11, 5, 2, 12]\n",
        "    ],\n",
        "\n",
        "    # S-Box 4\n",
        "    [\n",
        "      [7, 13, 14, 3, 0, 6, 9, 10, 1, 2, 8, 5, 11, 12, 4, 15],\n",
        "      [13, 8, 11, 5, 6, 15, 0, 3, 4, 7, 2, 12, 1, 10, 14, 9],\n",
        "      [10, 6, 9, 0, 12, 11, 7, 13, 15, 1, 3, 14, 5, 2, 8, 4],\n",
        "      [3, 15, 0, 6, 10, 1, 13, 8, 9, 4, 5, 11, 12, 7, 2, 14]\n",
        "    ],\n",
        "\n",
        "    # S-Box 5\n",
        "    [\n",
        "      [2, 12, 4, 1, 7, 10, 11, 6, 8, 5, 3, 15, 13, 0, 14, 9],\n",
        "      [14, 11, 2, 12, 4, 7, 13, 1, 5, 0, 15, 10, 3, 9, 8, 6],\n",
        "      [4, 2, 1, 11, 10, 13, 7, 8, 15, 9, 12, 5, 6, 3, 0, 14],\n",
        "      [11, 8, 12, 7, 1, 14, 2, 13, 6, 15, 0, 9, 10, 4, 5, 3]\n",
        "    ],\n",
        "\n",
        "    # S-Box 6\n",
        "    [\n",
        "      [12, 1, 10, 15, 9, 2, 6, 8, 0, 13, 3, 4, 14, 7, 5, 11],\n",
        "      [10, 15, 4, 2, 7, 12, 9, 5, 6, 1, 13, 14, 0, 11, 3, 8],\n",
        "      [9, 14, 15, 5, 2, 8, 12, 3, 7, 0, 4, 10, 1, 13, 11, 6],\n",
        "      [4, 3, 2, 12, 9, 5, 15, 10, 11, 14, 1, 7, 6, 0, 8, 13]\n",
        "    ],\n",
        "\n",
        "    # S-Box 7\n",
        "    [\n",
        "      [4, 11, 2, 14, 15, 0, 8, 13, 3, 12, 9, 7, 5, 10, 6, 1],\n",
        "      [13, 0, 11, 7, 4, 9, 1, 10, 14, 3, 5, 12, 2, 15, 8, 6],\n",
        "      [1, 4, 11, 13, 12, 3, 7, 14, 10, 15, 6, 8, 0, 5, 9, 2],\n",
        "      [6, 11, 13, 8, 1, 4, 10, 7, 9, 5, 0, 15, 14, 2, 3, 12]\n",
        "    ],\n",
        "\n",
        "    # S-Box 8\n",
        "    [\n",
        "      [13, 2, 8, 4, 6, 15, 11, 1, 10, 9, 3, 14, 5, 0, 12, 7],\n",
        "      [1, 15, 13, 8, 10, 3, 7, 4, 12, 5, 6, 11, 0, 14, 9, 2],\n",
        "      [7, 11, 4, 1, 9, 12, 14, 2, 0, 6, 10, 13, 15, 3, 5, 8],\n",
        "      [2, 1, 14, 7, 4, 10, 8, 13, 15, 12, 9, 0, 3, 5, 6, 11]\n",
        "    ]\n",
        "]"
      ],
      "metadata": {
        "id": "xpLE_6rIyoNE"
      },
      "execution_count": 39,
      "outputs": []
    },
    {
      "cell_type": "markdown",
      "source": [
        "HASIL SUBSTITUSI S-BOX"
      ],
      "metadata": {
        "id": "t1z3iLeLfYE6"
      }
    },
    {
      "cell_type": "code",
      "source": [
        "# Pisahkan A1 menjadi 8 blok 6-bit\n",
        "blocks = [A1[i:i+6] for i in range(0, len(A1), 6)]\n",
        "\n",
        "# Lakukan substitusi S-box pada setiap blok 6-bit\n",
        "substituted_blocks = []\n",
        "for i in range(8):\n",
        "    block = blocks[i]\n",
        "    row = int(block[0] + block[5], 2)\n",
        "    col = int(block[1:5], 2)\n",
        "    #Mengonversi nilai yang diambil dari tabel S-Box menjadi representasi biner 4-bit\n",
        "    substituted_value = format(s_box[i][row][col], '04b')\n",
        "    substituted_blocks.append(substituted_value)\n",
        "\n",
        "# Gabungkan kembali blok-blok yang sudah di-substitusi dengan spasi setiap 4 bit\n",
        "substituted_A1 = ' '.join(substituted_blocks)\n",
        "print(\"B1 =\", substituted_A1)"
      ],
      "metadata": {
        "colab": {
          "base_uri": "https://localhost:8080/"
        },
        "id": "ShPHbVtu00Vc",
        "outputId": "4716416b-e86e-4d16-9bbb-3549e38c54fe"
      },
      "execution_count": 40,
      "outputs": [
        {
          "output_type": "stream",
          "name": "stdout",
          "text": [
            "B1 = 1000 0101 0100 1000 0011 0010 1110 1010\n"
          ]
        }
      ]
    },
    {
      "cell_type": "markdown",
      "source": [
        "TABLE P-BOX"
      ],
      "metadata": {
        "id": "KFX3ONyjfe5Z"
      }
    },
    {
      "cell_type": "code",
      "source": [
        "p_box = [16, 7, 20, 21, 29, 12, 28, 17,\n",
        "        1, 15, 23, 26, 5, 18, 31, 10,\n",
        "        2, 8, 24, 14, 32, 27, 3, 9,\n",
        "        19, 13, 30, 6, 22, 11, 4, 25]"
      ],
      "metadata": {
        "id": "ryyuoCia4ocJ"
      },
      "execution_count": 41,
      "outputs": []
    },
    {
      "cell_type": "markdown",
      "source": [
        "HASIL P-BOX (PERMUTASI TERHADAP B1)"
      ],
      "metadata": {
        "id": "5viVmmYUfoKu"
      }
    },
    {
      "cell_type": "code",
      "source": [
        "# Hasil substitusi B1 yang sudah ada dipisahkan dan diubah menjadi string\n",
        "B1 = substituted_A1.replace(\" \", \"\")\n",
        "\n",
        "# Inisialisasi hasil permutasi\n",
        "permuted_B1 = \"\"\n",
        "\n",
        "# Lakukan permutasi P-Box\n",
        "for index in p_box:\n",
        "    permuted_B1 += B1[index - 1]  #digunakan untuk menambahkan bit yang diambil dari (B1) ke hasil permutasi (permuted_B1)\n",
        "\n",
        "# Tambahkan spasi setiap 8 bit\n",
        "permuted_B1_with_spaces = ' '.join(permuted_B1[i:i+8] for i in range(0, len(permuted_B1), 8))\n",
        "\n",
        "print(\"P(B1) =\", permuted_B1_with_spaces)"
      ],
      "metadata": {
        "colab": {
          "base_uri": "https://localhost:8080/"
        },
        "id": "NtIBaTiG5SMj",
        "outputId": "f2d02e8e-a520-45a1-8464-4e57d9cb2941"
      },
      "execution_count": 42,
      "outputs": [
        {
          "output_type": "stream",
          "name": "stdout",
          "text": [
            "P(B1) = 00101000 10110011 01000100 11010001\n"
          ]
        }
      ]
    },
    {
      "cell_type": "markdown",
      "source": [
        "MENDAPATKAN L1 DAN R1"
      ],
      "metadata": {
        "id": "tFD7RENhf53o"
      }
    },
    {
      "cell_type": "code",
      "source": [
        "# Konversi permuted_B1_with_spaces dan L0 ke bentuk yang sesuai\n",
        "permuted_B1_binary = ''.join(permuted_B1_with_spaces.split()) #memisahkan spasi\n",
        "L0_binary = ''.join(L0) #memisahkan spasi\n",
        "\n",
        "# Pastikan panjang keduanya sama\n",
        "if len(permuted_B1_binary) == len(L0_binary):\n",
        "    # Lakukan XOR bit per bit\n",
        "    result_XOR = \"\"\n",
        "    for i in range(len(permuted_B1_binary)):\n",
        "        bit_B1 = int(permuted_B1_binary[i])\n",
        "        bit_L0 = int(L0_binary[i])\n",
        "        result_bit = bit_B1 ^ bit_L0 # Operasi XOR\n",
        "        result_XOR += str(result_bit)\n",
        "\n",
        "    # Inisialisasi L1 dengan nilai R0\n",
        "    L1 = ''.join(R0)\n",
        "    L1_formatted = ''.join(L1[i:i+8] for i in range(0, len(L1), 8))\n",
        "\n",
        "    # Hasil XOR adalah R1\n",
        "    R1 = ' '.join(result_XOR[i:i+8] for i in range(0, len(result_XOR), 8))\n",
        "\n",
        "    print(\"L1: \" + ' '.join(L1_formatted[i:i+8] for i in range(0, len(L1_formatted), 8)))\n",
        "    print(\"R1: \" + R1)\n",
        "else:\n",
        "    print(\"Panjang P(B1) dan L0 tidak sama.\")"
      ],
      "metadata": {
        "colab": {
          "base_uri": "https://localhost:8080/"
        },
        "id": "OdMdWYPJ8Jnw",
        "outputId": "526a2f52-7651-416b-be7c-4998e129645d"
      },
      "execution_count": 43,
      "outputs": [
        {
          "output_type": "stream",
          "name": "stdout",
          "text": [
            "L1: 00000000 00000000 00000110 10000011\n",
            "R1: 11010111 00001011 00110010 10000110\n"
          ]
        }
      ]
    },
    {
      "cell_type": "markdown",
      "source": [
        "LOOP SEBANYAK 16 KALI UNTUK MENDAPAT L16 DAN R16"
      ],
      "metadata": {
        "id": "iruq7qvOgON_"
      }
    },
    {
      "cell_type": "code",
      "source": [
        "L = L1\n",
        "C = R1\n",
        "\n",
        "LR_results = []  # List untuk menyimpan hasil L dan R setiap putaran\n",
        "\n",
        "# Inisialisasi L dan R dari ciphertext\n",
        "L0 = ''.join(L0)\n",
        "R0 = ''.join(R0)\n",
        "\n",
        "# Pastikan panjang L0 dan R0 adalah 32 bit\n",
        "L0 = L0.zfill(32)\n",
        "R0 = R0.zfill(32)\n",
        "\n",
        "# Tambahkan spasi setiap 8 bit\n",
        "L0 = ' '.join(L0[i:i+8] for i in range(0, len(L0), 8))\n",
        "R0 = ' '.join(R0[i:i+8] for i in range(0, len(R0), 8))\n",
        "\n",
        "print(\"L0 =\", L0)\n",
        "print(\"R0 =\", R0)\n",
        "\n",
        "for round in range(1, 16):\n",
        "    # Pastikan panjang keduanya sama\n",
        "    expanded_R = \"\"\n",
        "    R = C\n",
        "    R = R.replace(\" \", \"\")\n",
        "    # Memastikan panjang R selalu 48 bit\n",
        "    for i in range(48):\n",
        "        expanded_R += R[expansion_table[i]-1]\n",
        "\n",
        "    A = \"\"\n",
        "    # Lakukan XOR bit per bit antara hasil ekspansi R (expanded_R) dan kunci K (key_pc2)\n",
        "    for i in range(48):\n",
        "        bit_expanded_R = int(expanded_R[i])\n",
        "        bit_key = int(key_pc2_list[round][i])\n",
        "        result_bit = bit_expanded_R ^ bit_key  # Operasi XOR\n",
        "        A += str(result_bit)  # Tambahkan hasil XOR ke A\n",
        "\n",
        "    # Lakukan substitusi S-box pada A\n",
        "    blocks = [A[i:i+6] for i in range(0, len(A), 6)]\n",
        "    substituted_blocks = []\n",
        "\n",
        "    for i in range(8):\n",
        "        block = blocks[i]\n",
        "        row = int(block[0] + block[5], 2)\n",
        "        col = int(block[1:5], 2)\n",
        "        substituted_value = format(s_box[i][row][col], '04b')\n",
        "        substituted_blocks.append(substituted_value)\n",
        "\n",
        "    # Gabungkan kembali blok-blok yang sudah di-substitusi dengan spasi setiap 4 bit\n",
        "    substituted_A = ''.join(substituted_blocks)\n",
        "    B = substituted_A\n",
        "\n",
        "    # Inisialisasi hasil permutasi\n",
        "    permuted_B = \"\"\n",
        "    # Lakukan permutasi P-Box\n",
        "    for index in p_box:\n",
        "        permuted_B += B[index - 1]\n",
        "\n",
        "    # Lakukan XOR antara L dan hasil permutasi B\n",
        "    result_XOR = \"\"\n",
        "    L = L.replace(\" \", \"\")\n",
        "    # Memastikan panjang L selalu 32 bit\n",
        "    for i in range(32):\n",
        "        bit_L = int(L[i])\n",
        "        bit_permuted_B = int(permuted_B[i])\n",
        "        result_bit = bit_L ^ bit_permuted_B  # Operasi XOR\n",
        "        result_XOR += str(result_bit)\n",
        "\n",
        "    # Hapus spasi pada L dan C sebelum mencetak\n",
        "    L = L.replace(\" \", \"\")\n",
        "    C = C.replace(\" \", \"\")\n",
        "\n",
        "    # Menambahkan spasi setiap 8 bit pada output\n",
        "    L = ' '.join(L[i:i+8] for i in range(0, len(L), 8))\n",
        "    C = ' '.join(C[i:i+8] for i in range(0, len(C), 8))\n",
        "\n",
        "    print(f\"L{round} = {L}\")\n",
        "    print(f\"R{round} = {C}\")\n",
        "\n",
        "    # Hasil XOR adalah R\n",
        "    C = result_XOR\n",
        "\n",
        "    LR_results.append(L + R)  # Menyimpan hasil gabungan L dan R\n",
        "\n",
        "    # Inisialisasi L dan R untuk putaran berikutnya\n",
        "    L = R\n",
        "    if(round == 15):\n",
        "        # Hapus spasi pada L dan C sebelum mencetak\n",
        "        C = C.replace(\" \", \"\")\n",
        "        L = L.replace(\" \", \"\")\n",
        "        C = ' '.join(C[i:i+8] for i in range(0, len(C), 8))\n",
        "        L = ' '.join(L[i:i+8] for i in range(0, len(L), 8))\n",
        "        print(f\"L{round+1} = {C}\")\n",
        "        print(f\"R{round+1} = {L}\")\n",
        "\n",
        "        L16 = C\n",
        "        R16 = L"
      ],
      "metadata": {
        "id": "GvXWuTBDTeOa",
        "colab": {
          "base_uri": "https://localhost:8080/"
        },
        "outputId": "67f39ea8-4659-4705-940b-b96c1351c1c5"
      },
      "execution_count": 44,
      "outputs": [
        {
          "output_type": "stream",
          "name": "stdout",
          "text": [
            "L0 = 11111111 10111000 01110110 01010111\n",
            "R0 = 00000000 00000000 00000110 10000011\n",
            "L1 = 00000000 00000000 00000110 10000011\n",
            "R1 = 11010111 00001011 00110010 10000110\n",
            "L2 = 11010111 00001011 00110010 10000110\n",
            "R2 = 10001011 11011001 10001010 10010000\n",
            "L3 = 10001011 11011001 10001010 10010000\n",
            "R3 = 10111000 10111001 10101110 01111000\n",
            "L4 = 10111000 10111001 10101110 01111000\n",
            "R4 = 10110100 11100010 11001101 00110001\n",
            "L5 = 10110100 11100010 11001101 00110001\n",
            "R5 = 00101101 10001011 01110110 00111101\n",
            "L6 = 00101101 10001011 01110110 00111101\n",
            "R6 = 10010000 11111001 00111110 11001001\n",
            "L7 = 10010000 11111001 00111110 11001001\n",
            "R7 = 11100101 01001010 10011000 01010001\n",
            "L8 = 11100101 01001010 10011000 01010001\n",
            "R8 = 10010111 11000000 00010111 10101000\n",
            "L9 = 10010111 11000000 00010111 10101000\n",
            "R9 = 00111100 01110001 00111011 11000101\n",
            "L10 = 00111100 01110001 00111011 11000101\n",
            "R10 = 10011011 11010101 01111001 10001100\n",
            "L11 = 10011011 11010101 01111001 10001100\n",
            "R11 = 01001101 01001111 10001011 10010110\n",
            "L12 = 01001101 01001111 10001011 10010110\n",
            "R12 = 00110011 10111101 11110111 01100101\n",
            "L13 = 00110011 10111101 11110111 01100101\n",
            "R13 = 11001011 10000100 01000100 01011101\n",
            "L14 = 11001011 10000100 01000100 01011101\n",
            "R14 = 00110110 01100000 11001101 00101010\n",
            "L15 = 00110110 01100000 11001101 00101010\n",
            "R15 = 01101110 10100010 10101000 10110001\n",
            "L16 = 00011111 10010111 10100101 11100110\n",
            "R16 = 01101110 10100010 10101000 10110001\n"
          ]
        }
      ]
    },
    {
      "cell_type": "markdown",
      "source": [
        "INVERS PERMUTASI"
      ],
      "metadata": {
        "id": "zSgh1V8ewyrf"
      }
    },
    {
      "cell_type": "markdown",
      "source": [
        "GABUNGKAN Ln DENGAN Rn LALU KEMUDIAN DI PERMUTASIKAN"
      ],
      "metadata": {
        "id": "fY6A9UMuv5MI"
      }
    },
    {
      "cell_type": "code",
      "source": [
        "# Tambahkan hasil putaran terakhir ke LR_results\n",
        "LR_results.append(C + L)\n",
        "\n",
        "# Cetak hasil gabungan L dan R setiap putaran\n",
        "for i, LR in enumerate(LR_results):\n",
        "    LR_no_spaces = ''.join(LR.split())\n",
        "    formatted_LR = ' '.join(LR_no_spaces[i:i+8] for i in range(0, len(LR_no_spaces), 8))\n",
        "    print(f\"L{i + 1}R{i + 1} = {formatted_LR}\")"
      ],
      "metadata": {
        "colab": {
          "base_uri": "https://localhost:8080/"
        },
        "id": "yGfeYyaT0Foh",
        "outputId": "c2c56980-38fa-4d84-98c8-378e94313086"
      },
      "execution_count": 45,
      "outputs": [
        {
          "output_type": "stream",
          "name": "stdout",
          "text": [
            "L1R1 = 00000000 00000000 00000110 10000011 11010111 00001011 00110010 10000110\n",
            "L2R2 = 11010111 00001011 00110010 10000110 10001011 11011001 10001010 10010000\n",
            "L3R3 = 10001011 11011001 10001010 10010000 10111000 10111001 10101110 01111000\n",
            "L4R4 = 10111000 10111001 10101110 01111000 10110100 11100010 11001101 00110001\n",
            "L5R5 = 10110100 11100010 11001101 00110001 00101101 10001011 01110110 00111101\n",
            "L6R6 = 00101101 10001011 01110110 00111101 10010000 11111001 00111110 11001001\n",
            "L7R7 = 10010000 11111001 00111110 11001001 11100101 01001010 10011000 01010001\n",
            "L8R8 = 11100101 01001010 10011000 01010001 10010111 11000000 00010111 10101000\n",
            "L9R9 = 10010111 11000000 00010111 10101000 00111100 01110001 00111011 11000101\n",
            "L10R10 = 00111100 01110001 00111011 11000101 10011011 11010101 01111001 10001100\n",
            "L11R11 = 10011011 11010101 01111001 10001100 01001101 01001111 10001011 10010110\n",
            "L12R12 = 01001101 01001111 10001011 10010110 00110011 10111101 11110111 01100101\n",
            "L13R13 = 00110011 10111101 11110111 01100101 11001011 10000100 01000100 01011101\n",
            "L14R14 = 11001011 10000100 01000100 01011101 00110110 01100000 11001101 00101010\n",
            "L15R15 = 00110110 01100000 11001101 00101010 01101110 10100010 10101000 10110001\n",
            "L16R16 = 00011111 10010111 10100101 11100110 01101110 10100010 10101000 10110001\n"
          ]
        }
      ]
    },
    {
      "cell_type": "markdown",
      "source": [
        "MENAMPILKAN HASIL CIPHER"
      ],
      "metadata": {
        "id": "s_ZfKJ4ew7NW"
      }
    },
    {
      "cell_type": "code",
      "source": [
        "# Ambil hasil L16R16 (tanpa spasi)\n",
        "L16R16 = LR_results[15].replace(\" \", \"\")\n",
        "\n",
        "# Buat tabel permutasi chiper\n",
        "chiper_permutasi = [40, 8, 48, 16, 56, 24, 64, 32,\n",
        "                    39, 7, 47, 15, 55, 23, 63, 31,\n",
        "                    38, 6, 46, 14, 54, 22, 62, 30,\n",
        "                    37, 5, 45, 13, 53, 21, 61, 29,\n",
        "                    36, 4, 44, 12, 52, 20, 60, 28,\n",
        "                    35, 3, 43, 11, 51, 19, 59, 27,\n",
        "                    34, 2, 42, 10, 50, 18, 58, 26,\n",
        "                    33, 1, 41, 9, 49, 17, 57, 25]\n",
        "\n",
        "# Inisialisasi variabel cipher\n",
        "cipher = ''\n",
        "\n",
        "# Lakukan permutasi dengan tabel chiper\n",
        "for i in range(64):\n",
        "    cipher += L16R16[chiper_permutasi[i] - 1]\n",
        "\n",
        "# Tambahkan spasi setiap 8 bit pada output\n",
        "cipher_with_spaces = ' '.join(cipher[i:i + 8] for i in range(0, len(cipher), 8))\n",
        "\n",
        "# Cetak hasil cipher dengan spasi\n",
        "print('Cipher:', cipher_with_spaces)"
      ],
      "metadata": {
        "colab": {
          "base_uri": "https://localhost:8080/"
        },
        "id": "5-3rk5tGTCv_",
        "outputId": "2704e250-4fd7-4651-f135-96d3d141e768"
      },
      "execution_count": 46,
      "outputs": [
        {
          "output_type": "stream",
          "name": "stdout",
          "text": [
            "Cipher: 01010110 11110001 11010101 11001000 01010010 10101111 10000001 00111111\n"
          ]
        }
      ]
    },
    {
      "cell_type": "markdown",
      "source": [
        "PROSES DECRYPT"
      ],
      "metadata": {
        "id": "YAyDzLAQyKB4"
      }
    },
    {
      "cell_type": "code",
      "source": [
        "LR_results = []  # List untuk menyimpan hasil L dan R setiap putaran\n",
        "\n",
        "L = L16\n",
        "C = R16\n",
        "\n",
        "dekrip = 15\n",
        "\n",
        "for round in range(0,16):\n",
        "    # Pastikan panjang keduanya sama\n",
        "    expanded_R = \"\"\n",
        "    R = C\n",
        "    R = R.replace(\" \", \"\")\n",
        "    # Memastikan panjang R selalu 48 bit\n",
        "    for i in range(48):\n",
        "        expanded_R += R[expansion_table[i]-1]\n",
        "\n",
        "    A = \"\"\n",
        "    # Lakukan XOR bit per bit antara hasil ekspansi R (expanded_R) dan kunci K (key_pc2)\n",
        "    for i in range(48):\n",
        "        bit_expanded_R = int(expanded_R[i])\n",
        "        bit_key = int(key_pc2_list[dekrip][i])\n",
        "        result_bit = bit_expanded_R ^ bit_key  # Operasi XOR\n",
        "        A += str(result_bit)  # Tambahkan hasil XOR ke A\n",
        "\n",
        "    dekrip -= 1\n",
        "    # Lakukan substitusi S-box pada A\n",
        "    blocks = [A[i:i+6] for i in range(0, len(A), 6)]\n",
        "    substituted_blocks = []\n",
        "\n",
        "    for i in range(8):\n",
        "        block = blocks[i]\n",
        "        row = int(block[0] + block[5], 2)\n",
        "        col = int(block[1:5], 2)\n",
        "        substituted_value = format(s_box[i][row][col], '04b')\n",
        "        substituted_blocks.append(substituted_value)\n",
        "\n",
        "    # Gabungkan kembali blok-blok yang sudah di-substitusi dengan spasi setiap 4 bit\n",
        "    substituted_A = ''.join(substituted_blocks)\n",
        "    B = substituted_A\n",
        "\n",
        "    # Inisialisasi hasil permutasi\n",
        "    permuted_B = \"\"\n",
        "    # Lakukan permutasi P-Box\n",
        "    for index in p_box:\n",
        "        permuted_B += B[index - 1]\n",
        "\n",
        "    # Lakukan XOR antara L dan hasil permutasi B\n",
        "    result_XOR = \"\"\n",
        "    L = L.replace(\" \", \"\")\n",
        "    # Memastikan panjang L selalu 32 bit\n",
        "    for i in range(32):\n",
        "        bit_L = int(L[i])\n",
        "        bit_permuted_B = int(permuted_B[i])\n",
        "        result_bit = bit_L ^ bit_permuted_B  # Operasi XOR\n",
        "        result_XOR += str(result_bit)\n",
        "\n",
        "    # Hapus spasi pada L dan C sebelum mencetak\n",
        "    L = L.replace(\" \", \"\")\n",
        "    C = C.replace(\" \", \"\")\n",
        "\n",
        "    # Menambahkan spasi setiap 8 bit pada output\n",
        "    L = ' '.join(L[i:i+8] for i in range(0, len(L), 8))\n",
        "    C = ' '.join(C[i:i+8] for i in range(0, len(C), 8))\n",
        "\n",
        "    print(f\"L{round} = {L}\")\n",
        "    print(f\"R{round} = {C}\")\n",
        "\n",
        "    # Hasil XOR adalah R\n",
        "    C = result_XOR\n",
        "\n",
        "    LR_results.append(L + R)  # Menyimpan hasil gabungan L dan R\n",
        "\n",
        "    # Inisialisasi L dan R untuk putaran berikutnya\n",
        "    L = R\n",
        "    if(round == 15):\n",
        "        # Hapus spasi pada L dan C sebelum mencetak\n",
        "        C = C.replace(\" \", \"\")\n",
        "        L = L.replace(\" \", \"\")\n",
        "        C = ' '.join(C[i:i+8] for i in range(0, len(C), 8))\n",
        "        L = ' '.join(L[i:i+8] for i in range(0, len(L), 8))\n",
        "        print(f\"L{round+1} = {C}\")\n",
        "        print(f\"R{round+1} = {L}\")"
      ],
      "metadata": {
        "colab": {
          "base_uri": "https://localhost:8080/"
        },
        "id": "DEI_ZZM5XpKi",
        "outputId": "ac690181-4582-4e50-b672-375519903195"
      },
      "execution_count": 47,
      "outputs": [
        {
          "output_type": "stream",
          "name": "stdout",
          "text": [
            "L0 = 00011111 10010111 10100101 11100110\n",
            "R0 = 01101110 10100010 10101000 10110001\n",
            "L1 = 01101110 10100010 10101000 10110001\n",
            "R1 = 00110110 01100000 11001101 00101010\n",
            "L2 = 00110110 01100000 11001101 00101010\n",
            "R2 = 11001011 10000100 01000100 01011101\n",
            "L3 = 11001011 10000100 01000100 01011101\n",
            "R3 = 00110011 10111101 11110111 01100101\n",
            "L4 = 00110011 10111101 11110111 01100101\n",
            "R4 = 01001101 01001111 10001011 10010110\n",
            "L5 = 01001101 01001111 10001011 10010110\n",
            "R5 = 10011011 11010101 01111001 10001100\n",
            "L6 = 10011011 11010101 01111001 10001100\n",
            "R6 = 00111100 01110001 00111011 11000101\n",
            "L7 = 00111100 01110001 00111011 11000101\n",
            "R7 = 10010111 11000000 00010111 10101000\n",
            "L8 = 10010111 11000000 00010111 10101000\n",
            "R8 = 11100101 01001010 10011000 01010001\n",
            "L9 = 11100101 01001010 10011000 01010001\n",
            "R9 = 10010000 11111001 00111110 11001001\n",
            "L10 = 10010000 11111001 00111110 11001001\n",
            "R10 = 00101101 10001011 01110110 00111101\n",
            "L11 = 00101101 10001011 01110110 00111101\n",
            "R11 = 10110100 11100010 11001101 00110001\n",
            "L12 = 10110100 11100010 11001101 00110001\n",
            "R12 = 10111000 10111001 10101110 01111000\n",
            "L13 = 10111000 10111001 10101110 01111000\n",
            "R13 = 10001011 11011001 10001010 10010000\n",
            "L14 = 10001011 11011001 10001010 10010000\n",
            "R14 = 11010111 00001011 00110010 10000110\n",
            "L15 = 11010111 00001011 00110010 10000110\n",
            "R15 = 00000000 00000000 00000110 10000011\n",
            "L16 = 11111111 10111000 01110110 01010111\n",
            "R16 = 00000000 00000000 00000110 10000011\n"
          ]
        }
      ]
    },
    {
      "cell_type": "markdown",
      "source": [
        "GABUNGKAN Ln DENGAN Rn LALU KEMUDIAN DI PERMUTASIKAN"
      ],
      "metadata": {
        "id": "Wtf4MV1EzAsX"
      }
    },
    {
      "cell_type": "code",
      "source": [
        "# Tambahkan hasil putaran terakhir ke LR_results\n",
        "LR_results.append(C + L)\n",
        "\n",
        "# Cetak hasil gabungan L dan R setiap putaran tanpa spasi\n",
        "for i, LR in enumerate(LR_results):\n",
        "    lr_without_space = LR.replace(' ', '')\n",
        "    formatted_lr = ' '.join(lr_without_space[i:i+8] for i in range(0, len(lr_without_space), 8))\n",
        "    print(f\"L{i + 1}R{i + 1} = {formatted_lr}\")"
      ],
      "metadata": {
        "colab": {
          "base_uri": "https://localhost:8080/"
        },
        "id": "3t_vmd3Nf2qG",
        "outputId": "c4216c6d-1313-4fbe-ab83-a48ac9c5a8f1"
      },
      "execution_count": 48,
      "outputs": [
        {
          "output_type": "stream",
          "name": "stdout",
          "text": [
            "L1R1 = 00011111 10010111 10100101 11100110 01101110 10100010 10101000 10110001\n",
            "L2R2 = 01101110 10100010 10101000 10110001 00110110 01100000 11001101 00101010\n",
            "L3R3 = 00110110 01100000 11001101 00101010 11001011 10000100 01000100 01011101\n",
            "L4R4 = 11001011 10000100 01000100 01011101 00110011 10111101 11110111 01100101\n",
            "L5R5 = 00110011 10111101 11110111 01100101 01001101 01001111 10001011 10010110\n",
            "L6R6 = 01001101 01001111 10001011 10010110 10011011 11010101 01111001 10001100\n",
            "L7R7 = 10011011 11010101 01111001 10001100 00111100 01110001 00111011 11000101\n",
            "L8R8 = 00111100 01110001 00111011 11000101 10010111 11000000 00010111 10101000\n",
            "L9R9 = 10010111 11000000 00010111 10101000 11100101 01001010 10011000 01010001\n",
            "L10R10 = 11100101 01001010 10011000 01010001 10010000 11111001 00111110 11001001\n",
            "L11R11 = 10010000 11111001 00111110 11001001 00101101 10001011 01110110 00111101\n",
            "L12R12 = 00101101 10001011 01110110 00111101 10110100 11100010 11001101 00110001\n",
            "L13R13 = 10110100 11100010 11001101 00110001 10111000 10111001 10101110 01111000\n",
            "L14R14 = 10111000 10111001 10101110 01111000 10001011 11011001 10001010 10010000\n",
            "L15R15 = 10001011 11011001 10001010 10010000 11010111 00001011 00110010 10000110\n",
            "L16R16 = 11010111 00001011 00110010 10000110 00000000 00000000 00000110 10000011\n",
            "L17R17 = 11111111 10111000 01110110 01010111 00000000 00000000 00000110 10000011\n"
          ]
        }
      ]
    },
    {
      "cell_type": "markdown",
      "source": [
        "MENAMPILKAN HASIL DEKRIP"
      ],
      "metadata": {
        "id": "Og29GdpFzGgN"
      }
    },
    {
      "cell_type": "code",
      "source": [
        "# Ambil hasil L16R16 (tanpa spasi)\n",
        "L16R16 = LR_results[16].replace(\" \", \"\")\n",
        "\n",
        "# Buat tabel permutasi dekrip\n",
        "dekrip_permutasi = [40, 8, 48, 16, 56, 24, 64, 32,\n",
        "                    39, 7, 47, 15, 55, 23, 63, 31,\n",
        "                    38, 6, 46, 14, 54, 22, 62, 30,\n",
        "                    37, 5, 45, 13, 53, 21, 61, 29,\n",
        "                    36, 4, 44, 12, 52, 20, 60, 28,\n",
        "                    35, 3, 43, 11, 51, 19, 59, 27,\n",
        "                    34, 2, 42, 10, 50, 18, 58, 26,\n",
        "                    33, 1, 41, 9, 49, 17, 57, 25]\n",
        "\n",
        "# Inisialisasi variabel dekrip\n",
        "dekrip = ''\n",
        "\n",
        "# Lakukan permutasi dengan tabel dekrip\n",
        "for i in range(64):\n",
        "    dekrip += L16R16[dekrip_permutasi[i] - 1]\n",
        "\n",
        "# Tambahkan spasi setiap 8 bit pada output\n",
        "dekrip_with_spaces = ' '.join(dekrip[i:i + 8] for i in range(0, len(dekrip), 8))\n",
        "\n",
        "# Cetak hasil dekrip dengan spasi\n",
        "print('Dekrip:', dekrip_with_spaces)"
      ],
      "metadata": {
        "colab": {
          "base_uri": "https://localhost:8080/"
        },
        "id": "BGs6dYy-fClp",
        "outputId": "f818b564-1b29-44fc-9b3f-514cd4ff268d"
      },
      "execution_count": 49,
      "outputs": [
        {
          "output_type": "stream",
          "name": "stdout",
          "text": [
            "Dekrip: 01000011 01001111 01001101 01010000 01010101 01010100 01000101 01010010\n"
          ]
        }
      ]
    },
    {
      "cell_type": "code",
      "source": [
        "print(\"Plaintext :\", binary_text_with_spaces)\n",
        "print('Dekrip    :', dekrip_with_spaces)"
      ],
      "metadata": {
        "colab": {
          "base_uri": "https://localhost:8080/"
        },
        "id": "1MLTXCYznoId",
        "outputId": "ba409fbe-f40f-4b93-f556-827cac85a867"
      },
      "execution_count": 50,
      "outputs": [
        {
          "output_type": "stream",
          "name": "stdout",
          "text": [
            "Plaintext : 01000011 01001111 01001101 01010000 01010101 01010100 01000101 01010010\n",
            "Dekrip    : 01000011 01001111 01001101 01010000 01010101 01010100 01000101 01010010\n"
          ]
        }
      ]
    }
  ]
}